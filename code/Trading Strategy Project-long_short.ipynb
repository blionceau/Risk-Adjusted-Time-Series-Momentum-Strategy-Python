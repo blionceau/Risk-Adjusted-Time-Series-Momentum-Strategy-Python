{
 "cells": [
  {
   "cell_type": "markdown",
   "metadata": {},
   "source": [
    "# Sharpe Momentum Trading Strategies\n",
    "\n",
    "Simeon Bikorimana"
   ]
  },
  {
   "cell_type": "code",
   "execution_count": 3,
   "metadata": {
    "collapsed": true
   },
   "outputs": [],
   "source": [
    "import numpy as np\n",
    "import pandas as pd\n",
    "import matplotlib.pyplot as plt\n",
    "import scipy.stats as stats\n",
    "import scipy.spatial.distance as distance\n",
    "import statsmodels.api as sm\n",
    "from statsmodels import regression\n",
    "import time\n",
    "from datetime import datetime, date, time, timedelta"
   ]
  },
  {
   "cell_type": "code",
   "execution_count": 5,
   "metadata": {},
   "outputs": [
    {
     "data": {
      "text/html": [
       "<div>\n",
       "<style scoped>\n",
       "    .dataframe tbody tr th:only-of-type {\n",
       "        vertical-align: middle;\n",
       "    }\n",
       "\n",
       "    .dataframe tbody tr th {\n",
       "        vertical-align: top;\n",
       "    }\n",
       "\n",
       "    .dataframe thead th {\n",
       "        text-align: right;\n",
       "    }\n",
       "</style>\n",
       "<table border=\"1\" class=\"dataframe\">\n",
       "  <thead>\n",
       "    <tr style=\"text-align: right;\">\n",
       "      <th></th>\n",
       "      <th>close</th>\n",
       "      <th>Name</th>\n",
       "    </tr>\n",
       "    <tr>\n",
       "      <th>date</th>\n",
       "      <th></th>\n",
       "      <th></th>\n",
       "    </tr>\n",
       "  </thead>\n",
       "  <tbody>\n",
       "    <tr>\n",
       "      <th>2013-02-08</th>\n",
       "      <td>14.75</td>\n",
       "      <td>AAL</td>\n",
       "    </tr>\n",
       "    <tr>\n",
       "      <th>2013-02-11</th>\n",
       "      <td>14.46</td>\n",
       "      <td>AAL</td>\n",
       "    </tr>\n",
       "    <tr>\n",
       "      <th>2013-02-12</th>\n",
       "      <td>14.27</td>\n",
       "      <td>AAL</td>\n",
       "    </tr>\n",
       "    <tr>\n",
       "      <th>2013-02-13</th>\n",
       "      <td>14.66</td>\n",
       "      <td>AAL</td>\n",
       "    </tr>\n",
       "    <tr>\n",
       "      <th>2013-02-14</th>\n",
       "      <td>13.99</td>\n",
       "      <td>AAL</td>\n",
       "    </tr>\n",
       "  </tbody>\n",
       "</table>\n",
       "</div>"
      ],
      "text/plain": [
       "            close Name\n",
       "date                  \n",
       "2013-02-08  14.75  AAL\n",
       "2013-02-11  14.46  AAL\n",
       "2013-02-12  14.27  AAL\n",
       "2013-02-13  14.66  AAL\n",
       "2013-02-14  13.99  AAL"
      ]
     },
     "execution_count": 5,
     "metadata": {},
     "output_type": "execute_result"
    }
   ],
   "source": [
    "data = pd.read_csv('/Users/simeon/Desktop/Time Series Analysis/all_stocks_5yr.csv').set_index('date')\n",
    "data = data[['close','Name']]\n",
    "data.head()"
   ]
  },
  {
   "cell_type": "code",
   "execution_count": 6,
   "metadata": {},
   "outputs": [
    {
     "data": {
      "text/plain": [
       "1259"
      ]
     },
     "execution_count": 6,
     "metadata": {},
     "output_type": "execute_result"
    }
   ],
   "source": [
    "SP500 = pd.read_csv('/Users/simeon/Desktop/Time Series Analysis/^GSPC.csv').set_index('Date')\n",
    "SP500 = SP500['Adj Close']\n",
    "SP500.head()\n",
    "len(SP500)"
   ]
  },
  {
   "cell_type": "code",
   "execution_count": 7,
   "metadata": {
    "collapsed": true
   },
   "outputs": [],
   "source": [
    "# Timeline of changing holding position\n",
    "index = pd.to_datetime(data[data['Name'] == 'AAL'].index)\n",
    "timeline = index[20::10]\n",
    "\n",
    "# There are total 505 stocks in SP500\n",
    "symbols = set(data['Name'].values)\n",
    "symbols = sorted(list(symbols))"
   ]
  },
  {
   "cell_type": "code",
   "execution_count": 8,
   "metadata": {
    "collapsed": true
   },
   "outputs": [],
   "source": [
    "def sharperank(data,time):\n",
    "    \"\"\"\n",
    "    Function:   This function rank the returns of all stocks in the last 20 days\n",
    "    Input:      data\n",
    "                the time we decide to change the position\n",
    "    Output:     buylist and shortlist of the companies we decide to choose base on the current sharpe ratio rank\n",
    "    \"\"\"\n",
    "    \n",
    "    data.index = pd.to_datetime(data.index)\n",
    "    sharpe = {'symbol':[], 'ratio':[]}\n",
    "    for symbol in symbols:\n",
    "        sharpe['symbol'].append(symbol)\n",
    "        chunckdata = data[data['Name'] == symbol]\n",
    "        chunckdata = chunckdata[(chunckdata.index >= (time - timedelta(20))) & (chunckdata.index <= time)]\n",
    "        \n",
    "        # get sharpe ratios of all stocks\n",
    "        ret = chunckdata[chunckdata['Name'] == symbol]['close'].pct_change().dropna()\n",
    "        ratio = ret.mean() / ret.std()\n",
    "        sharpe['ratio'].append(ratio)\n",
    "        \n",
    "    # sort sharpe ratios\n",
    "    sharpe = pd.DataFrame(sharpe)\n",
    "    sorted_sharpe = sharpe.sort_values(by = ['ratio'],ascending = False)\n",
    "    sorted_sharpe = sorted_sharpe.reset_index()\n",
    "        \n",
    "    # According to the ranks, choose to long the top 10% stocks and short the bottom 10% stocks\n",
    "    sorted_sharpe = sorted_sharpe[0:int(sorted_sharpe.shape[0]*1/5)]\n",
    "    buylist = sorted_sharpe['symbol'].tolist()\n",
    "    sorted_sharpe_short = sorted_sharpe[int(sorted_sharpe.shape[0]*4/5):]\n",
    "    shortlist = sorted_sharpe_short['symbol'].tolist()\n",
    "    \n",
    "    return(buylist,shortlist)"
   ]
  },
  {
   "cell_type": "code",
   "execution_count": 9,
   "metadata": {
    "collapsed": true
   },
   "outputs": [],
   "source": [
    "def valid_companies(buylist,shortlist):\n",
    "    \"\"\"\n",
    "    Function: This funciton checks whether this timeline has this stock\n",
    "    Input:    buylist we get from sharpe rank function\n",
    "    Output:   number of the buylist\n",
    "              valid new buylist\n",
    "    \"\"\"\n",
    "    \n",
    "    buylist_new = []\n",
    "    shortlist_new = []\n",
    "    for buy in buylist:\n",
    "        if timeline[0] in (data[data['Name'] == buy].index):\n",
    "            buylist_new.append(buy)\n",
    "    number1 = len(buylist_new)\n",
    "    \n",
    "    for short in shortlist:\n",
    "        if timeline[0] in (data[data['Name'] == short].index):\n",
    "            shortlist_new.append(short)\n",
    "    number2 = len(shortlist_new)\n",
    "    return(number1,buylist_new,number2,shortlist_new)"
   ]
  },
  {
   "cell_type": "markdown",
   "metadata": {},
   "source": [
    "### Get the capital changing process using Sharpe Momentum strategy"
   ]
  },
  {
   "cell_type": "code",
   "execution_count": 10,
   "metadata": {},
   "outputs": [
    {
     "name": "stdout",
     "output_type": "stream",
     "text": [
      "1007344.575\n",
      "1013890.2865999999\n",
      "1034659.0515999998\n",
      "1046359.4143999998\n",
      "1064591.8706\n",
      "1030075.6499999999\n",
      "1043620.3609\n",
      "1040631.0146000001\n",
      "1071476.2511000002\n",
      "1083986.5035000003\n",
      "1059453.7695000004\n",
      "1056198.6174000003\n",
      "1079502.9008000004\n",
      "1085331.0438000006\n",
      "1093752.101300001\n",
      "1114065.2400000012\n",
      "1106990.6952000011\n",
      "1126255.675200001\n",
      "1128082.8072000009\n",
      "1145220.5870000008\n",
      "1159658.680200001\n",
      "1171376.297200001\n",
      "1154134.3822000013\n",
      "1193124.5010000013\n",
      "1211668.8609000011\n",
      "1200786.1707000015\n",
      "1190014.5407000014\n",
      "1192910.5401000013\n",
      "1198210.445100001\n",
      "1204508.0321000014\n",
      "1218302.833400001\n",
      "1227448.993400001\n",
      "1240522.646300001\n",
      "1234812.699000001\n",
      "1222806.406500001\n",
      "1201745.182500001\n",
      "1235291.9266000013\n",
      "1236927.6923000012\n",
      "1218861.095400001\n",
      "1197853.8694000007\n",
      "1221407.2291000003\n",
      "1256795.2831000001\n",
      "1265661.3880999999\n",
      "1282828.3364\n",
      "1283591.9964000003\n",
      "1261966.2214000004\n",
      "1290754.4219000002\n",
      "1286033.5878000003\n",
      "1327245.3980000003\n",
      "1322267.8986\n",
      "1338667.9649\n",
      "1313320.4899\n",
      "1312724.2226\n",
      "1325595.6268999998\n",
      "1320877.2688999998\n",
      "1314784.6878999996\n",
      "1297075.8451999994\n",
      "1286122.2201999996\n",
      "1313745.1331999998\n",
      "1319130.2131999999\n",
      "1324884.6759\n",
      "1237171.5059\n",
      "1270225.9927\n",
      "1249949.4227\n",
      "1255789.3927\n",
      "1269100.2777000002\n",
      "1289376.3577000003\n",
      "1289530.0377000002\n",
      "1271776.7527000005\n",
      "1266665.4377000006\n",
      "1262955.5191000006\n",
      "1192876.4434000005\n",
      "1221854.6939000005\n",
      "1219972.5079000008\n",
      "1248954.8029000007\n",
      "1273496.4605000005\n",
      "1289020.4305000005\n",
      "1283931.1505000005\n",
      "1286761.4567000004\n",
      "1258206.1237000003\n",
      "1245705.0754000004\n",
      "1243009.3204000003\n",
      "1236518.1654\n",
      "1287174.6754\n",
      "1288561.9854000004\n",
      "1299175.6454000007\n",
      "1305118.2754000006\n",
      "1303536.3854000005\n",
      "1282030.5454000004\n",
      "1283572.4973000002\n",
      "1262679.1137999997\n",
      "1259029.1637999995\n",
      "1302607.7237999993\n",
      "1312195.803799999\n",
      "1337988.7087999992\n",
      "1334766.1987999994\n",
      "1338128.1241999995\n",
      "1349109.7791999993\n",
      "1371966.8191999993\n",
      "1393022.3141999994\n",
      "1391656.0593999994\n",
      "1393050.3212999995\n",
      "1392139.0812999995\n",
      "1398170.4012999993\n",
      "1407454.851299999\n",
      "1414117.4613999992\n",
      "1422607.8730999995\n",
      "1418257.6714999995\n",
      "1421688.4414999997\n",
      "1431856.1214999997\n",
      "1421326.2314999995\n",
      "1402161.2814999996\n",
      "1420119.3414999996\n",
      "1435058.8714999997\n",
      "1458079.4814999998\n",
      "1463545.4815\n",
      "1469604.9415000002\n",
      "1482386.2215\n",
      "1490141.0214999998\n",
      "1516554.9215\n",
      "1533655.7914999998\n",
      "1583112.9914999998\n",
      "1615555.2814999998\n"
     ]
    }
   ],
   "source": [
    "capital_base = 1000000\n",
    "\n",
    "capital_change = []\n",
    "for i in np.arange(len(timeline)-1):\n",
    "    pricelist_buy = []\n",
    "    sharelist_buy = []\n",
    "    pricelist_short = []\n",
    "    sharelist_short = []\n",
    "    \n",
    "    # get the new buylist and new shortlist\n",
    "    buylist, shortlist = sharperank(data,timeline[i])\n",
    "    number1, buylist_new, number2, shortlist_new = valid_companies(buylist,shortlist)\n",
    "\n",
    "    \n",
    "    # get the money we put in each stock. Here we use equal holding position\n",
    "    money = capital_base / number1\n",
    "    \n",
    "    # Buy stocks we choose\n",
    "    for buy in buylist_new:\n",
    "        price = data[data['Name'] == buy][data[data['Name'] == buy].index == timeline[i]]['close'].values[0]\n",
    "        # floor down to integer shares\n",
    "        share = int(money / price)\n",
    "        sharelist_buy.append(share)\n",
    "        pricelist_buy.append(price)  \n",
    "        \n",
    "    # Short stocks we choose to hedge\n",
    "    for short in shortlist_new:\n",
    "        price = data[data['Name'] == short][data[data['Name'] == short].index == timeline[i]]['close'].values[0]\n",
    "        # floor down to integer shares\n",
    "        share = int(money / price)\n",
    "        sharelist_short.append(share)\n",
    "        pricelist_short.append(price)  \n",
    "    \n",
    "    # Include transaction cost, here we consider $2/transaction\n",
    "    moneyleft = capital_base - np.array(pricelist_buy).dot(np.array(sharelist_buy))\n",
    "    \n",
    "    # get the total capital we have at the next refreshing date\n",
    "    pricelistbuy_new = []\n",
    "    pricelistshort_new = []\n",
    "    for buy in buylist_new:\n",
    "        price = data[data['Name'] == buy][data[data['Name'] == buy].index == timeline[i+1]]['close'].values[0]\n",
    "        pricelistbuy_new.append(price)\n",
    "    \n",
    "    for short in shortlist_new:\n",
    "        price = data[data['Name'] == short][data[data['Name'] == short].index == timeline[i+1]]['close'].values[0]\n",
    "        pricelistshort_new.append(price)\n",
    "        \n",
    "    pricelistshort_new = np.array(pricelist_short) - np.array(pricelistshort_new)\n",
    "    \n",
    "    capital = np.array(pricelistbuy_new).dot(np.array(sharelist_buy)) + np.array(pricelistshort_new).dot(np.array(sharelist_short)) + moneyleft\n",
    "    print(capital)\n",
    "    capital_change.append(capital)\n",
    "    # change captial_base to what we have now\n",
    "    capital_base = capital"
   ]
  },
  {
   "cell_type": "code",
   "execution_count": 12,
   "metadata": {
    "collapsed": true
   },
   "outputs": [],
   "source": [
    "capital_change = pd.DataFrame({'Date':timeline[:-1],\n",
    "                               'Capital':capital_change}).set_index('Date')"
   ]
  },
  {
   "cell_type": "markdown",
   "metadata": {},
   "source": [
    "### Get the capital changing process by holding benchmark index(SP500 index)"
   ]
  },
  {
   "cell_type": "code",
   "execution_count": 13,
   "metadata": {
    "collapsed": true
   },
   "outputs": [],
   "source": [
    "SP500_return = SP500.pct_change().dropna()\n",
    "capital_base = 1000000\n",
    "cumulative_return = (1 + SP500_return.values)\n",
    "SP500_capital = []\n",
    "SP500_capital.append(capital_base)\n",
    "for i in range(len(cumulative_return)):\n",
    "    capital = capital_base * cumulative_return[i]\n",
    "    SP500_capital.append(capital)\n",
    "    capital_base = capital\n",
    "SP500_capital = pd.DataFrame({'Date':index,\n",
    "                              'Capital':SP500_capital}).set_index('Date')"
   ]
  },
  {
   "cell_type": "code",
   "execution_count": 14,
   "metadata": {},
   "outputs": [
    {
     "data": {
      "image/png": "[encoded data removed]",
      "text/plain": [
       "<matplotlib.figure.Figure at 0x10131b080>"
      ]
     },
     "metadata": {
      "needs_background": "light"
     },
     "output_type": "display_data"
    }
   ],
   "source": [
    "plt.figure(figsize=[12,8])\n",
    "plt.plot(capital_change, color = 'red',label = 'Sharpe Momentum')\n",
    "plt.plot(SP500_capital[index.isin(timeline)], color = 'blue', label = 'SP500')\n",
    "plt.xlabel('Timeline')\n",
    "plt.ylabel('Capital')\n",
    "plt.title('Captial Changed Over Time')\n",
    "plt.legend(loc='best')\n",
    "plt.show()"
   ]
  },
  {
   "cell_type": "code",
   "execution_count": 15,
   "metadata": {},
   "outputs": [
    {
     "name": "stdout",
     "output_type": "stream",
     "text": [
      "Market yearly return is 0.121\n",
      "Sharpe Momentum Strategy return is 0.099\n"
     ]
    }
   ],
   "source": [
    "strategy_return = ((capital_change.values[-1] - capital_change.values[0]) / capital_change.values[0])[0]\n",
    "market_return = ((SP500_capital.values[-1] - SP500_capital.values[0]) / SP500_capital.values[0])[0]\n",
    "yearly_strategy_return = (strategy_return + 1) ** (1/5) - 1\n",
    "yearly_market_return = (market_return + 1) ** (1/5) - 1\n",
    "print('Market yearly return is %.3f' % yearly_market_return)\n",
    "print('Sharpe Momentum Strategy return is %.3f' % yearly_strategy_return)"
   ]
  },
  {
   "cell_type": "code",
   "execution_count": 24,
   "metadata": {},
   "outputs": [
    {
     "data": {
      "text/html": [
       "<div>\n",
       "<style scoped>\n",
       "    .dataframe tbody tr th:only-of-type {\n",
       "        vertical-align: middle;\n",
       "    }\n",
       "\n",
       "    .dataframe tbody tr th {\n",
       "        vertical-align: top;\n",
       "    }\n",
       "\n",
       "    .dataframe thead th {\n",
       "        text-align: right;\n",
       "    }\n",
       "</style>\n",
       "<table border=\"1\" class=\"dataframe\">\n",
       "  <thead>\n",
       "    <tr style=\"text-align: right;\">\n",
       "      <th></th>\n",
       "      <th>Return</th>\n",
       "      <th>Beta</th>\n",
       "      <th>Alpha</th>\n",
       "      <th>Volatility</th>\n",
       "      <th>Sharpe Ratio</th>\n",
       "      <th>IR</th>\n",
       "      <th>Max Drawdown</th>\n",
       "    </tr>\n",
       "  </thead>\n",
       "  <tbody>\n",
       "    <tr>\n",
       "      <th>Info</th>\n",
       "      <td>0.099079</td>\n",
       "      <td>0.67973</td>\n",
       "      <td>0.009644</td>\n",
       "      <td>0.015918</td>\n",
       "      <td>6.224337</td>\n",
       "      <td>-0.79477</td>\n",
       "      <td>-10.89079</td>\n",
       "    </tr>\n",
       "  </tbody>\n",
       "</table>\n",
       "</div>"
      ],
      "text/plain": [
       "        Return     Beta     Alpha  Volatility  Sharpe Ratio       IR  \\\n",
       "Info  0.099079  0.67973  0.009644    0.015918      6.224337 -0.79477   \n",
       "\n",
       "      Max Drawdown  \n",
       "Info     -10.89079  "
      ]
     },
     "execution_count": 24,
     "metadata": {},
     "output_type": "execute_result"
    }
   ],
   "source": [
    "# beta \n",
    "beta = np.cov(capital_change['Capital'].values,SP500_capital[index.isin(timeline)]['Capital'][:-1].values)[0][1] / np.var(SP500_capital[index.isin(timeline)]['Capital'][:-1].values)\n",
    "rf = 0.0234 # three month treasury bill rate\n",
    "# alpha\n",
    "alpha = yearly_strategy_return - rf - beta * (yearly_market_return - rf)\n",
    "# volatility\n",
    "volatility = np.std(capital_change.pct_change().dropna()['Capital'].values)\n",
    "# sharpe ratio\n",
    "sharpe_ratio = yearly_strategy_return / volatility\n",
    "# information ratio\n",
    "IR = (yearly_strategy_return - yearly_market_return) / np.std(capital_change.pct_change().dropna()['Capital'].values-SP500_capital[index.isin(timeline)][:-1].pct_change().dropna()['Capital'].values) \n",
    "# maximum drawdown\n",
    "i = np.argmax(np.maximum.accumulate(capital_change['Capital'].values) - capital_change['Capital'].values) # end of the period\n",
    "j = np.argmax(capital_change['Capital'].values[:i]) # start of period\n",
    "max_drawdown = 100 * (capital_change['Capital'][i]-capital_change['Capital'][j]) / capital_change['Capital'][j]\n",
    "\n",
    "info = pd.DataFrame([yearly_strategy_return,beta,alpha,volatility,sharpe_ratio,IR,max_drawdown]).T\n",
    "info.columns = ['Return','Beta','Alpha','Volatility','Sharpe Ratio','IR','Max Drawdown']\n",
    "info.index = ['Info']\n",
    "info"
   ]
  }
 ],
 "metadata": {
  "kernelspec": {
   "display_name": "Python 3",
   "language": "python",
   "name": "python3"
  },
  "language_info": {
   "codemirror_mode": {
    "name": "ipython",
    "version": 3
   },
   "file_extension": ".py",
   "mimetype": "text/x-python",
   "name": "python",
   "nbconvert_exporter": "python",
   "pygments_lexer": "ipython3",
   "version": "3.6.6"
  }
 },
 "nbformat": 4,
 "nbformat_minor": 2
}
