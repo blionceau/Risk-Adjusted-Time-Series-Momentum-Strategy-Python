{
 "cells": [
  {
   "cell_type": "markdown",
   "metadata": {},
   "source": [
    "# Sharpe Momentum Trading Strategies\n",
    "\n",
    "Simeon Bikorimana"
   ]
  },
  {
   "cell_type": "code",
   "execution_count": 1,
   "metadata": {},
   "outputs": [
    {
     "name": "stderr",
     "output_type": "stream",
     "text": [
      "/Users/jennyTian/anaconda3/lib/python3.6/site-packages/statsmodels/compat/pandas.py:56: FutureWarning: The pandas.core.datetools module is deprecated and will be removed in a future version. Please use the pandas.tseries module instead.\n",
      "  from pandas.core import datetools\n"
     ]
    }
   ],
   "source": [
    "import numpy as np\n",
    "import pandas as pd\n",
    "import matplotlib.pyplot as plt\n",
    "import scipy.stats as stats\n",
    "import scipy.spatial.distance as distance\n",
    "import statsmodels.api as sm\n",
    "from statsmodels import regression\n",
    "import time\n",
    "from datetime import datetime, date, time, timedelta"
   ]
  },
  {
   "cell_type": "code",
   "execution_count": 2,
   "metadata": {},
   "outputs": [
    {
     "data": {
      "text/html": [
       "<div>\n",
       "<style>\n",
       "    .dataframe thead tr:only-child th {\n",
       "        text-align: right;\n",
       "    }\n",
       "\n",
       "    .dataframe thead th {\n",
       "        text-align: left;\n",
       "    }\n",
       "\n",
       "    .dataframe tbody tr th {\n",
       "        vertical-align: top;\n",
       "    }\n",
       "</style>\n",
       "<table border=\"1\" class=\"dataframe\">\n",
       "  <thead>\n",
       "    <tr style=\"text-align: right;\">\n",
       "      <th></th>\n",
       "      <th>close</th>\n",
       "      <th>Name</th>\n",
       "    </tr>\n",
       "    <tr>\n",
       "      <th>date</th>\n",
       "      <th></th>\n",
       "      <th></th>\n",
       "    </tr>\n",
       "  </thead>\n",
       "  <tbody>\n",
       "    <tr>\n",
       "      <th>2013-02-08</th>\n",
       "      <td>14.75</td>\n",
       "      <td>AAL</td>\n",
       "    </tr>\n",
       "    <tr>\n",
       "      <th>2013-02-11</th>\n",
       "      <td>14.46</td>\n",
       "      <td>AAL</td>\n",
       "    </tr>\n",
       "    <tr>\n",
       "      <th>2013-02-12</th>\n",
       "      <td>14.27</td>\n",
       "      <td>AAL</td>\n",
       "    </tr>\n",
       "    <tr>\n",
       "      <th>2013-02-13</th>\n",
       "      <td>14.66</td>\n",
       "      <td>AAL</td>\n",
       "    </tr>\n",
       "    <tr>\n",
       "      <th>2013-02-14</th>\n",
       "      <td>13.99</td>\n",
       "      <td>AAL</td>\n",
       "    </tr>\n",
       "  </tbody>\n",
       "</table>\n",
       "</div>"
      ],
      "text/plain": [
       "            close Name\n",
       "date                  \n",
       "2013-02-08  14.75  AAL\n",
       "2013-02-11  14.46  AAL\n",
       "2013-02-12  14.27  AAL\n",
       "2013-02-13  14.66  AAL\n",
       "2013-02-14  13.99  AAL"
      ]
     },
     "execution_count": 2,
     "metadata": {},
     "output_type": "execute_result"
    }
   ],
   "source": [
    "data = pd.read_csv('/Users/jennyTian/Desktop/ts project/all_stocks_5yr.csv').set_index('date')\n",
    "data = data[['close','Name']]\n",
    "data.head()\n",
    "#data[data['Name'] == 'AAL'].index\n",
    "#len(set(data.Name.values))"
   ]
  },
  {
   "cell_type": "code",
   "execution_count": 3,
   "metadata": {},
   "outputs": [
    {
     "data": {
      "text/plain": [
       "1259"
      ]
     },
     "execution_count": 3,
     "metadata": {},
     "output_type": "execute_result"
    }
   ],
   "source": [
    "SP500 = pd.read_csv('/Users/jennyTian/Desktop/ts project/^GSPC.csv').set_index('Date')\n",
    "SP500 = SP500['Adj Close']\n",
    "SP500.head()\n",
    "len(SP500)"
   ]
  },
  {
   "cell_type": "code",
   "execution_count": 4,
   "metadata": {
    "collapsed": true
   },
   "outputs": [],
   "source": [
    "# Timeline of changing holding position\n",
    "index = pd.to_datetime(data[data['Name'] == 'AAL'].index)\n",
    "timeline = index[20::10]\n",
    "\n",
    "# There are total 505 stocks in SP500\n",
    "symbols = set(data['Name'].values)\n",
    "symbols = sorted(list(symbols))"
   ]
  },
  {
   "cell_type": "code",
   "execution_count": 5,
   "metadata": {
    "collapsed": true
   },
   "outputs": [],
   "source": [
    "def sharperank(data,time):\n",
    "    \"\"\"\n",
    "    Function:   This function rank the returns of all stocks in the last 20 days\n",
    "    Input:      data\n",
    "                the time we decide to change the position\n",
    "    Output:     buylist of the companies we decide to choose base on the current sharpe ratio rank\n",
    "    \"\"\"\n",
    "    \n",
    "    data.index = pd.to_datetime(data.index)\n",
    "    sharpe = {'symbol':[], 'ratio':[]}\n",
    "    for symbol in symbols:\n",
    "        sharpe['symbol'].append(symbol)\n",
    "        chunckdata = data[data['Name'] == symbol]\n",
    "        chunckdata = chunckdata[(chunckdata.index >= (time - timedelta(20))) & (chunckdata.index <= time)]\n",
    "        \n",
    "        # get sharpe ratios of all stocks\n",
    "        ret = chunckdata[chunckdata['Name'] == symbol]['close'].pct_change().dropna()\n",
    "        ratio = ret.mean() / ret.std()\n",
    "        sharpe['ratio'].append(ratio)\n",
    "        \n",
    "    # sort sharpe ratios\n",
    "    sharpe = pd.DataFrame(sharpe)\n",
    "    sorted_sharpe = sharpe.sort_values(by = ['ratio'],ascending = False)\n",
    "    sorted_sharpe = sorted_sharpe.reset_index()\n",
    "        \n",
    "    # According to the ranks, choose to long the top 10% stocks\n",
    "    sorted_sharpe = sorted_sharpe[0:int(sorted_sharpe.shape[0]*1/5)]\n",
    "    buylist = sorted_sharpe['symbol'].tolist()\n",
    "    return(buylist)"
   ]
  },
  {
   "cell_type": "code",
   "execution_count": 6,
   "metadata": {
    "collapsed": true
   },
   "outputs": [],
   "source": [
    "def valid_companies(buylist):\n",
    "    \"\"\"\n",
    "    Function: This funciton checks whether this timeline has this stock\n",
    "    Input:    buylist we get from sharpe rank function\n",
    "    Output:   number of the buylist\n",
    "              valid new buylist\n",
    "    \"\"\"\n",
    "    \n",
    "    buylist_new = []\n",
    "    for buy in buylist:\n",
    "        if timeline[0] in (data[data['Name'] == buy].index):\n",
    "            buylist_new.append(buy)\n",
    "    number = len(buylist_new)\n",
    "    return(number,buylist_new)"
   ]
  },
  {
   "cell_type": "code",
   "execution_count": 7,
   "metadata": {},
   "outputs": [
    {
     "name": "stdout",
     "output_type": "stream",
     "text": [
      "1007907.4134\n",
      "1017606.96\n",
      "1041334.54\n",
      "1059612.8441\n",
      "1084594.3482\n",
      "1039667.5393\n",
      "1058930.2937\n",
      "1054796.0527\n",
      "1094793.4297\n",
      "1108037.3486\n",
      "1076730.4021\n",
      "1077049.2297\n",
      "1109154.3678\n",
      "1115422.7603\n",
      "1126083.2283\n",
      "1152999.2416\n",
      "1142559.7866\n",
      "1167679.1266\n",
      "1168600.2145\n",
      "1192494.6037\n",
      "1208878.0147\n",
      "1224410.1701\n",
      "1205190.4001\n",
      "1253766.9307\n",
      "1279311.56\n",
      "1265595.2073\n",
      "1253860.8373\n",
      "1254709.3691\n",
      "1262616.2611\n",
      "1269948.0277\n",
      "1288217.3862\n",
      "1302635.568\n",
      "1322285.376\n",
      "1311978.2192\n",
      "1296265.5362\n",
      "1271038.6722\n",
      "1316709.5316\n",
      "1318220.1096\n",
      "1295013.3968\n",
      "1270937.7858\n",
      "1297497.2368\n",
      "1346677.9048\n",
      "1358456.4078\n",
      "1383658.3041\n",
      "1384548.2891\n",
      "1356000.7441\n",
      "1391119.1641\n",
      "1387730.129\n",
      "1438918.2219\n",
      "1433822.5104\n",
      "1455413.8875\n",
      "1427799.4425\n",
      "1423688.8845\n",
      "1437232.9384\n",
      "1436461.2474\n",
      "1429264.3705\n",
      "1404179.5447\n",
      "1390876.6447\n",
      "1416088.8131\n",
      "1420544.3783\n",
      "1432156.356\n",
      "1310771.151\n",
      "1355231.5341\n",
      "1330143.3195\n",
      "1338542.1545\n",
      "1352326.3345\n",
      "1377359.2795\n",
      "1375777.5495\n",
      "1349765.8348\n",
      "1344155.9998\n",
      "1337605.5248\n",
      "1248741.9623\n",
      "1290188.8379\n",
      "1296612.7819\n",
      "1339466.6769\n",
      "1376102.9984\n",
      "1397016.5884\n",
      "1388774.4684\n",
      "1397783.8711\n",
      "1360607.6311\n",
      "1348720.4948\n",
      "1342269.8118\n",
      "1327013.5888\n",
      "1392702.0064\n",
      "1400884.3464\n",
      "1415982.2464\n",
      "1427760.2364\n",
      "1425966.2564\n",
      "1391824.4464\n",
      "1388590.3018\n",
      "1362450.1948\n",
      "1355697.2648\n",
      "1419749.7048\n",
      "1432761.2548\n",
      "1465575.8048\n",
      "1461674.7648\n",
      "1463760.9104\n",
      "1476602.6441\n",
      "1503288.6641\n",
      "1533009.8481\n",
      "1529538.6735\n",
      "1527974.597\n",
      "1527924.937\n",
      "1536203.1748\n",
      "1551401.6362\n",
      "1552733.4398\n",
      "1563219.0147\n",
      "1560626.5496\n",
      "1566183.983\n",
      "1585348.913\n",
      "1574436.493\n",
      "1548949.643\n",
      "1573861.943\n",
      "1594054.673\n",
      "1624124.173\n",
      "1631057.653\n",
      "1643147.933\n",
      "1657832.323\n",
      "1669574.083\n",
      "1705173.863\n",
      "1732219.223\n",
      "1792122.673\n",
      "1843292.623\n"
     ]
    }
   ],
   "source": [
    "capital_base = 1000000\n",
    "\n",
    "capital_change = []\n",
    "for i in np.arange(len(timeline)-1):\n",
    "    pricelist = []\n",
    "    sharelist = []\n",
    "    # get the new buylist\n",
    "    buylist = sharperank(data,timeline[i])\n",
    "    number, buylist_new = valid_companies(buylist)\n",
    "   \n",
    "    # get the money we put in each stock. Here we use equal holding position\n",
    "    money = capital_base / number\n",
    "    \n",
    "    # Buy stocks we choose\n",
    "    for buy in buylist_new:\n",
    "        price = data[data['Name'] == buy][data[data['Name'] == buy].index == timeline[i]]['close'].values[0]\n",
    "        # floor down to integer shares\n",
    "        share = int(money / price)\n",
    "        sharelist.append(share)\n",
    "        pricelist.append(price)  \n",
    "        \n",
    "    moneyleft = capital_base - np.array(pricelist).dot(np.array(sharelist))\n",
    "    \n",
    "    # get the total capital we have at the next refreshing date\n",
    "    pricelist_new = []\n",
    "    for buy in buylist_new:\n",
    "        price = data[data['Name'] == buy][data[data['Name'] == buy].index == timeline[i+1]]['close'].values[0]\n",
    "        pricelist_new.append(price)\n",
    "    capital = np.array(pricelist_new).dot(np.array(sharelist)) + moneyleft\n",
    "    print(capital)\n",
    "    capital_change.append(capital)\n",
    "    # change captial_base to what we have now\n",
    "    capital_base = capital"
   ]
  },
  {
   "cell_type": "code",
   "execution_count": 9,
   "metadata": {
    "collapsed": true
   },
   "outputs": [],
   "source": [
    "capital_change = pd.DataFrame({'Date':timeline[:-1],\n",
    "                               'Capital':capital_change}).set_index('Date')"
   ]
  },
  {
   "cell_type": "code",
   "execution_count": 20,
   "metadata": {
    "collapsed": true
   },
   "outputs": [],
   "source": [
    "SP500_return = SP500.pct_change().dropna()\n",
    "capital_base = 1000000\n",
    "cumulative_return = (1 + SP500_return.values)\n",
    "SP500_capital = []\n",
    "SP500_capital.append(capital_base)\n",
    "for i in range(len(cumulative_return)):\n",
    "    capital = capital_base * cumulative_return[i]\n",
    "    SP500_capital.append(capital)\n",
    "    capital_base = capital\n",
    "SP500_capital = pd.DataFrame({'Date':index,\n",
    "                              'Capital':SP500_capital}).set_index('Date')"
   ]
  },
  {
   "cell_type": "code",
   "execution_count": 21,
   "metadata": {},
   "outputs": [
    {
     "data": {
      "image/png": "[encoded data removed]",
      "text/plain": [
       "<matplotlib.figure.Figure at 0x10963fbe0>"
      ]
     },
     "metadata": {},
     "output_type": "display_data"
    }
   ],
   "source": [
    "plt.figure(figsize=[12,8])\n",
    "plt.plot(capital_change, color = 'red', label = 'Sharpe Momentum')\n",
    "plt.plot(SP500_capital[index.isin(timeline)], color = 'blue', label = 'SP500')\n",
    "plt.xlabel('Timeline')\n",
    "plt.ylabel('Capital')\n",
    "plt.title('Captial Changed Over Time')\n",
    "plt.legend(loc = 'best')\n",
    "plt.show()"
   ]
  },
  {
   "cell_type": "code",
   "execution_count": 46,
   "metadata": {},
   "outputs": [
    {
     "name": "stdout",
     "output_type": "stream",
     "text": [
      "Market yearly return is 0.121\n",
      "Sharpe Momentum Strategy return is 0.128\n"
     ]
    }
   ],
   "source": [
    "strategy_return = ((capital_change.values[-1] - capital_change.values[0]) / capital_change.values[0])[0]\n",
    "market_return = ((SP500_capital.values[-1] - SP500_capital.values[0]) / SP500_capital.values[0])[0]\n",
    "yearly_strategy_return = (strategy_return + 1) ** (1/5) - 1\n",
    "yearly_market_return = (market_return + 1) ** (1/5) - 1\n",
    "print('Market yearly return is %.3f' % yearly_market_return)\n",
    "print('Sharpe Momentum Strategy return is %.3f' % yearly_strategy_return)"
   ]
  },
  {
   "cell_type": "code",
   "execution_count": 111,
   "metadata": {},
   "outputs": [
    {
     "data": {
      "text/html": [
       "<div>\n",
       "<style>\n",
       "    .dataframe thead tr:only-child th {\n",
       "        text-align: right;\n",
       "    }\n",
       "\n",
       "    .dataframe thead th {\n",
       "        text-align: left;\n",
       "    }\n",
       "\n",
       "    .dataframe tbody tr th {\n",
       "        vertical-align: top;\n",
       "    }\n",
       "</style>\n",
       "<table border=\"1\" class=\"dataframe\">\n",
       "  <thead>\n",
       "    <tr style=\"text-align: right;\">\n",
       "      <th></th>\n",
       "      <th>Return</th>\n",
       "      <th>Beta</th>\n",
       "      <th>Alpha</th>\n",
       "      <th>Volatility</th>\n",
       "      <th>Sharpe Ratio</th>\n",
       "      <th>IR</th>\n",
       "      <th>Max Drawdown</th>\n",
       "    </tr>\n",
       "  </thead>\n",
       "  <tbody>\n",
       "    <tr>\n",
       "      <th>Info</th>\n",
       "      <td>0.128326</td>\n",
       "      <td>0.934047</td>\n",
       "      <td>0.014186</td>\n",
       "      <td>0.019708</td>\n",
       "      <td>6.511292</td>\n",
       "      <td>0.261799</td>\n",
       "      <td>-14.200217</td>\n",
       "    </tr>\n",
       "  </tbody>\n",
       "</table>\n",
       "</div>"
      ],
      "text/plain": [
       "        Return      Beta     Alpha  Volatility  Sharpe Ratio        IR  \\\n",
       "Info  0.128326  0.934047  0.014186    0.019708      6.511292  0.261799   \n",
       "\n",
       "      Max Drawdown  \n",
       "Info    -14.200217  "
      ]
     },
     "execution_count": 111,
     "metadata": {},
     "output_type": "execute_result"
    }
   ],
   "source": [
    "# beta \n",
    "beta = np.cov(capital_change['Capital'].values,SP500_capital[index.isin(timeline)]['Capital'][:-1].values)[0][1] / np.var(SP500_capital[index.isin(timeline)]['Capital'][:-1].values)\n",
    "rf = 0.0234 # three month treasury bill rate\n",
    "# alpha\n",
    "alpha = yearly_strategy_return - rf - beta * (yearly_market_return - rf)\n",
    "# volatility\n",
    "volatility = np.std(capital_change.pct_change().dropna()['Capital'].values)\n",
    "# sharpe ratio\n",
    "sharpe_ratio = yearly_strategy_return / volatility\n",
    "# information ratio\n",
    "IR = (yearly_strategy_return - yearly_market_return) / np.std(capital_change.pct_change().dropna()['Capital'].values-SP500_capital[index.isin(timeline)][:-1].pct_change().dropna()['Capital'].values) \n",
    "# maximum drawdown\n",
    "i = np.argmax(np.maximum.accumulate(capital_change['Capital'].values) - capital_change['Capital'].values) # end of the period\n",
    "j = np.argmax(capital_change['Capital'].values[:i]) # start of period\n",
    "max_drawdown = 100 * (capital_change['Capital'][i]-capital_change['Capital'][j]) / capital_change['Capital'][j] \n",
    "\n",
    "info = pd.DataFrame([yearly_strategy_return,\n",
    "                     beta,\n",
    "                     alpha,\n",
    "                     volatility,\n",
    "                     sharpe_ratio,\n",
    "                     IR,\n",
    "                     max_drawdown]).T\n",
    "info.columns = ['Return','Beta','Alpha','Volatility','Sharpe Ratio','IR','Max Drawdown']\n",
    "\n",
    "info.index = ['Info']\n",
    "info"
   ]
  }
 ],
 "metadata": {
  "kernelspec": {
   "display_name": "Python 3",
   "language": "python",
   "name": "python3"
  },
  "language_info": {
   "codemirror_mode": {
    "name": "ipython",
    "version": 3
   },
   "file_extension": ".py",
   "mimetype": "text/x-python",
   "name": "python",
   "nbconvert_exporter": "python",
   "pygments_lexer": "ipython3",
   "version": "3.6.6"
  }
 },
 "nbformat": 4,
 "nbformat_minor": 2
}
